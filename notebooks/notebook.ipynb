{
 "cells": [
  {
   "cell_type": "code",
   "execution_count": null,
   "metadata": {},
   "outputs": [
    {
     "ename": "ModuleNotFoundError",
     "evalue": "No module named 'src'",
     "output_type": "error",
     "traceback": [
      "\u001b[31m---------------------------------------------------------------------------\u001b[39m",
      "\u001b[31mModuleNotFoundError\u001b[39m                       Traceback (most recent call last)",
      "\u001b[36mCell\u001b[39m\u001b[36m \u001b[39m\u001b[32mIn[2]\u001b[39m\u001b[32m, line 1\u001b[39m\n\u001b[32m----> \u001b[39m\u001b[32m1\u001b[39m \u001b[38;5;28;01mfrom\u001b[39;00m\u001b[38;5;250m \u001b[39m\u001b[34;01msrc\u001b[39;00m\u001b[34;01m.\u001b[39;00m\u001b[34;01mentrega\u001b[39;00m\u001b[38;5;250m \u001b[39m\u001b[38;5;28;01mimport\u001b[39;00m todasRondas, puntosTotales\n\u001b[32m      5\u001b[39m tablaFinal = todasRondas()\n\u001b[32m      7\u001b[39m tablaOrdenada = puntosTotales()\n",
      "\u001b[31mModuleNotFoundError\u001b[39m: No module named 'src'"
     ]
    }
   ],
   "source": [
    "import sys\n",
    "import os\n",
    "\n",
    "sys.path.append(os.path.abspath('../src'))\n",
    "\n",
    "from funciones import *\n",
    "\n",
    "rounds = [\n",
    " {\n",
    "#1ra ronda\n",
    " 'Shadow': {'kills': 2, 'assists': 1, 'deaths': True},\n",
    " 'Blaze': {'kills': 1, 'assists': 0, 'deaths': False},\n",
    " 'Viper': {'kills': 1, 'assists': 2, 'deaths': True},\n",
    " 'Frost': {'kills': 0, 'assists': 1, 'deaths': False},\n",
    " 'Reaper': {'kills': 1, 'assists': 1, 'deaths': False}\n",
    " },\n",
    " {\n",
    "#2da ronda\n",
    " 'Shadow': {'kills': 0, 'assists': 2, 'deaths': False},\n",
    " 'Blaze': {'kills': 2, 'assists': 0, 'deaths': True},\n",
    " 'Viper': {'kills': 1, 'assists': 1, 'deaths': False},\n",
    " 'Frost': {'kills': 2, 'assists': 1, 'deaths': True},\n",
    " 'Reaper': {'kills': 0, 'assists': 1, 'deaths': False}\n",
    " },\n",
    " {\n",
    "#3er ronda\n",
    " 'Shadow': {'kills': 1, 'assists': 0, 'deaths': False},\n",
    " 'Blaze': {'kills': 2, 'assists': 2, 'deaths': True},\n",
    " 'Viper': {'kills': 1, 'assists': 1, 'deaths': True},\n",
    " 'Frost': {'kills': 0, 'assists': 1, 'deaths': False},\n",
    " 'Reaper': {'kills': 1, 'assists': 1, 'deaths': False}\n",
    " },\n",
    " {\n",
    "#4ta ronda\n",
    " 'Shadow': {'kills': 2, 'assists': 1, 'deaths': False},\n",
    " 'Blaze': {'kills': 1, 'assists': 0, 'deaths': True},\n",
    " 'Viper': {'kills': 0, 'assists': 2, 'deaths': False},\n",
    " 'Frost': {'kills': 1, 'assists': 1, 'deaths': True},\n",
    " 'Reaper': {'kills': 1, 'assists': 1, 'deaths': False}\n",
    " },\n",
    " {\n",
    "#5ta ronda\n",
    " 'Shadow': {'kills': 1, 'assists': 2, 'deaths': True},\n",
    " 'Blaze': {'kills': 0, 'assists': 1, 'deaths': False},\n",
    " 'Viper': {'kills': 2, 'assists': 0, 'deaths': True},\n",
    " 'Frost': {'kills': 1, 'assists': 1, 'deaths': False},\n",
    " 'Reaper': {'kills': 1, 'assists': 1, 'deaths': True}\n",
    " }\n",
    "]\n",
    "\n",
    "tablaFinal = {\n",
    " 'Shadow': {'kills': 0, 'assists': 0, 'deaths': 0, 'mvps': 0, 'puntos': 0},\n",
    " 'Blaze': {'kills': 0, 'assists': 0, 'deaths': 0, 'mvps': 0, 'puntos': 0},\n",
    " 'Viper': {'kills': 0, 'assists': 0, 'deaths': 0, 'mvps': 0, 'puntos': 0},\n",
    " 'Frost': {'kills': 0, 'assists': 0, 'deaths': 0, 'mvps': 0, 'puntos': 0},\n",
    " 'Reaper': {'kills': 0, 'assists': 0, 'deaths': 0, 'mvps': 0, 'puntos': 0}\n",
    "}\n",
    "numRonda = 0\n",
    "tablaFinal = todasRondas(rounds, tablaFinal, numRonda)"
   ]
  }
 ],
 "metadata": {
  "kernelspec": {
   "display_name": "Python 3",
   "language": "python",
   "name": "python3"
  },
  "language_info": {
   "codemirror_mode": {
    "name": "ipython",
    "version": 3
   },
   "file_extension": ".py",
   "mimetype": "text/x-python",
   "name": "python",
   "nbconvert_exporter": "python",
   "pygments_lexer": "ipython3",
   "version": "3.12.9"
  }
 },
 "nbformat": 4,
 "nbformat_minor": 2
}
